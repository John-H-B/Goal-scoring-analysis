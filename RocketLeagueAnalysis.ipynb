{
  "nbformat": 4,
  "nbformat_minor": 0,
  "metadata": {
    "colab": {
      "provenance": [],
      "collapsed_sections": []
    },
    "kernelspec": {
      "name": "python3",
      "display_name": "Python 3"
    },
    "language_info": {
      "name": "python"
    }
  },
  "cells": [
    {
      "cell_type": "markdown",
      "source": [
        "# An analysis of goal scoring in Rocket League\n",
        "\n",
        "This months kaggle tabular playground looked really interesting [https://www.kaggle.com/competitions/tabular-playground-series-oct-2022]. A lot of people have already shown some interesting modelling and prediction, so I thought it would be fun to do a statistical analysis from a gameplay persective. I also get to use some epidemiological modelling ideas ('survivival analysis'), which aren't as commonly considered in modern ML literature.  \n",
        "\n",
        "I largely had two questions of interest in this analysis\n",
        "\n",
        "1.   What is the expected time that it takes for a goal to be scored after 'kickoff'.\n",
        "2.   Does either team have some statistically relevant advantage in in reagrd to scoring? Particuarly immediately from kickoff?\n",
        "\n",
        "Note here I use 'kickoff' to include both the kickoff at the beginning of the game and when the ball is reset after a goal is scored.\n",
        "\n",
        "In particular I think this analysis (objective 2) would be interesting to investigate. A lot of games have a noticable bias in win probabilities between teams [https://www.factor.gg/article/not-just-this-or-that-blue-vs-red-side-analysis]. If such a bias is present, it could suggest that the game designers should consider attempting to counteract this to maintain competitive viablity.   \n",
        "\n",
        "\n",
        "\n"
      ],
      "metadata": {
        "id": "EZfbv-g1nr4l"
      }
    },
    {
      "cell_type": "markdown",
      "source": [
        "# Import data\n",
        "\n",
        "I ran this on google colab. To import the data you'll need to have a kaggle account and download your kaggle API key ('kaggle.json'). Upload that the colab notebook that you have opened this in, then run the following code.\n"
      ],
      "metadata": {
        "id": "W3s71-SDKxeI"
      }
    },
    {
      "cell_type": "code",
      "source": [
        "! pip install kaggle\n",
        "! mkdir ~/.kaggle\n",
        "! cp kaggle.json ~/.kaggle/\n",
        "! chmod 600 ~/.kaggle/kaggle.json"
      ],
      "metadata": {
        "id": "rCMgnME7prXu"
      },
      "execution_count": null,
      "outputs": []
    },
    {
      "cell_type": "code",
      "source": [
        "! kaggle competitions download -c tabular-playground-series-oct-2022"
      ],
      "metadata": {
        "colab": {
          "base_uri": "https://localhost:8080/"
        },
        "id": "SN3cEh2yp5pH",
        "outputId": "70a808bf-ac91-451d-99e7-0758fdf06dfc"
      },
      "execution_count": 3,
      "outputs": [
        {
          "output_type": "stream",
          "name": "stdout",
          "text": [
            "Downloading tabular-playground-series-oct-2022.zip to /content\n",
            "100% 3.49G/3.49G [00:35<00:00, 186MB/s]\n",
            "100% 3.49G/3.49G [00:35<00:00, 105MB/s]\n"
          ]
        }
      ]
    },
    {
      "cell_type": "code",
      "source": [
        "! unzip 'tabular-playground-series-oct-2022.zip'"
      ],
      "metadata": {
        "colab": {
          "base_uri": "https://localhost:8080/"
        },
        "id": "RM3Uuv8DqJQG",
        "outputId": "817c5356-9dde-4269-a9eb-716418d01e0d"
      },
      "execution_count": 4,
      "outputs": [
        {
          "output_type": "stream",
          "name": "stdout",
          "text": [
            "Archive:  tabular-playground-series-oct-2022.zip\n",
            "  inflating: sample_submission.csv   \n",
            "  inflating: test.csv                \n",
            "  inflating: test_dtypes.csv         \n",
            "  inflating: train_0.csv             \n",
            "  inflating: train_1.csv             \n",
            "  inflating: train_2.csv             \n",
            "  inflating: train_3.csv             \n",
            "  inflating: train_4.csv             \n",
            "  inflating: train_5.csv             \n",
            "  inflating: train_6.csv             \n",
            "  inflating: train_7.csv             \n",
            "  inflating: train_8.csv             \n",
            "  inflating: train_9.csv             \n",
            "  inflating: train_dtypes.csv        \n"
          ]
        }
      ]
    },
    {
      "cell_type": "markdown",
      "source": [
        "Let's start off with an install. We're going to use the package 'lifelines' for some survival analysis, so install that if you don't already have it."
      ],
      "metadata": {
        "id": "ptQMljlFGrIR"
      }
    },
    {
      "cell_type": "code",
      "source": [
        "## Installs\n",
        "! pip install lifelines"
      ],
      "metadata": {
        "id": "9KHsNMNDqjpQ"
      },
      "execution_count": null,
      "outputs": []
    },
    {
      "cell_type": "markdown",
      "source": [
        "Next the imports. I'm using the basic data science stack with the addition of some important functions from lifelines. I also import the scipy.stats.beta class for some statistical analysis. \n"
      ],
      "metadata": {
        "id": "zjSQSFSnG58t"
      }
    },
    {
      "cell_type": "code",
      "source": [
        "## Imports\n",
        "import pandas as pd\n",
        "import seaborn as sns\n",
        "import numpy as np\n",
        "import matplotlib.pyplot as plt\n",
        "\n",
        "from scipy.stats import beta\n",
        "from lifelines import KaplanMeierFitter\n",
        "from lifelines import (WeibullFitter, ExponentialFitter,\n",
        "LogNormalFitter, LogLogisticFitter)\n",
        "from lifelines.utils import median_survival_times"
      ],
      "metadata": {
        "id": "KRClMebKqLCH"
      },
      "execution_count": 6,
      "outputs": []
    },
    {
      "cell_type": "markdown",
      "source": [
        "Let's import the data (this takes some time). Only thing to note here is that I'm only importing "
      ],
      "metadata": {
        "id": "_PM5DROUHkMi"
      }
    },
    {
      "cell_type": "code",
      "source": [
        "# import pandas as pd\n",
        "# ## Getting the data\n",
        "# dtypes_df = pd.read_csv('/kaggle/input/tabular-playground-series-oct-2022/train_dtypes.csv')\n",
        "# dtypes_df"
      ],
      "metadata": {
        "id": "jeRwwYw_RxzD"
      },
      "execution_count": 7,
      "outputs": []
    },
    {
      "cell_type": "code",
      "source": [
        "## Getting the data\n",
        "dtypes_df = pd.read_csv('train_dtypes.csv')\n",
        "dtypes_df"
      ],
      "metadata": {
        "colab": {
          "base_uri": "https://localhost:8080/",
          "height": 424
        },
        "id": "w5sImTtJH5hr",
        "outputId": "2218522e-8830-4057-b9e4-b4ff117f250b"
      },
      "execution_count": 8,
      "outputs": [
        {
          "output_type": "execute_result",
          "data": {
            "text/plain": [
              "                         column    dtype\n",
              "0                      game_num    int32\n",
              "1                      event_id    int32\n",
              "2                    event_time  float32\n",
              "3                    ball_pos_x  float32\n",
              "4                    ball_pos_y  float32\n",
              "..                          ...      ...\n",
              "56                 boost5_timer  float16\n",
              "57          player_scoring_next     int8\n",
              "58            team_scoring_next   object\n",
              "59  team_A_scoring_within_10sec     int8\n",
              "60  team_B_scoring_within_10sec     int8\n",
              "\n",
              "[61 rows x 2 columns]"
            ],
            "text/html": [
              "\n",
              "  <div id=\"df-b4433061-9caf-449b-bdc1-b293591164e5\">\n",
              "    <div class=\"colab-df-container\">\n",
              "      <div>\n",
              "<style scoped>\n",
              "    .dataframe tbody tr th:only-of-type {\n",
              "        vertical-align: middle;\n",
              "    }\n",
              "\n",
              "    .dataframe tbody tr th {\n",
              "        vertical-align: top;\n",
              "    }\n",
              "\n",
              "    .dataframe thead th {\n",
              "        text-align: right;\n",
              "    }\n",
              "</style>\n",
              "<table border=\"1\" class=\"dataframe\">\n",
              "  <thead>\n",
              "    <tr style=\"text-align: right;\">\n",
              "      <th></th>\n",
              "      <th>column</th>\n",
              "      <th>dtype</th>\n",
              "    </tr>\n",
              "  </thead>\n",
              "  <tbody>\n",
              "    <tr>\n",
              "      <th>0</th>\n",
              "      <td>game_num</td>\n",
              "      <td>int32</td>\n",
              "    </tr>\n",
              "    <tr>\n",
              "      <th>1</th>\n",
              "      <td>event_id</td>\n",
              "      <td>int32</td>\n",
              "    </tr>\n",
              "    <tr>\n",
              "      <th>2</th>\n",
              "      <td>event_time</td>\n",
              "      <td>float32</td>\n",
              "    </tr>\n",
              "    <tr>\n",
              "      <th>3</th>\n",
              "      <td>ball_pos_x</td>\n",
              "      <td>float32</td>\n",
              "    </tr>\n",
              "    <tr>\n",
              "      <th>4</th>\n",
              "      <td>ball_pos_y</td>\n",
              "      <td>float32</td>\n",
              "    </tr>\n",
              "    <tr>\n",
              "      <th>...</th>\n",
              "      <td>...</td>\n",
              "      <td>...</td>\n",
              "    </tr>\n",
              "    <tr>\n",
              "      <th>56</th>\n",
              "      <td>boost5_timer</td>\n",
              "      <td>float16</td>\n",
              "    </tr>\n",
              "    <tr>\n",
              "      <th>57</th>\n",
              "      <td>player_scoring_next</td>\n",
              "      <td>int8</td>\n",
              "    </tr>\n",
              "    <tr>\n",
              "      <th>58</th>\n",
              "      <td>team_scoring_next</td>\n",
              "      <td>object</td>\n",
              "    </tr>\n",
              "    <tr>\n",
              "      <th>59</th>\n",
              "      <td>team_A_scoring_within_10sec</td>\n",
              "      <td>int8</td>\n",
              "    </tr>\n",
              "    <tr>\n",
              "      <th>60</th>\n",
              "      <td>team_B_scoring_within_10sec</td>\n",
              "      <td>int8</td>\n",
              "    </tr>\n",
              "  </tbody>\n",
              "</table>\n",
              "<p>61 rows × 2 columns</p>\n",
              "</div>\n",
              "      <button class=\"colab-df-convert\" onclick=\"convertToInteractive('df-b4433061-9caf-449b-bdc1-b293591164e5')\"\n",
              "              title=\"Convert this dataframe to an interactive table.\"\n",
              "              style=\"display:none;\">\n",
              "        \n",
              "  <svg xmlns=\"http://www.w3.org/2000/svg\" height=\"24px\"viewBox=\"0 0 24 24\"\n",
              "       width=\"24px\">\n",
              "    <path d=\"M0 0h24v24H0V0z\" fill=\"none\"/>\n",
              "    <path d=\"M18.56 5.44l.94 2.06.94-2.06 2.06-.94-2.06-.94-.94-2.06-.94 2.06-2.06.94zm-11 1L8.5 8.5l.94-2.06 2.06-.94-2.06-.94L8.5 2.5l-.94 2.06-2.06.94zm10 10l.94 2.06.94-2.06 2.06-.94-2.06-.94-.94-2.06-.94 2.06-2.06.94z\"/><path d=\"M17.41 7.96l-1.37-1.37c-.4-.4-.92-.59-1.43-.59-.52 0-1.04.2-1.43.59L10.3 9.45l-7.72 7.72c-.78.78-.78 2.05 0 2.83L4 21.41c.39.39.9.59 1.41.59.51 0 1.02-.2 1.41-.59l7.78-7.78 2.81-2.81c.8-.78.8-2.07 0-2.86zM5.41 20L4 18.59l7.72-7.72 1.47 1.35L5.41 20z\"/>\n",
              "  </svg>\n",
              "      </button>\n",
              "      \n",
              "  <style>\n",
              "    .colab-df-container {\n",
              "      display:flex;\n",
              "      flex-wrap:wrap;\n",
              "      gap: 12px;\n",
              "    }\n",
              "\n",
              "    .colab-df-convert {\n",
              "      background-color: #E8F0FE;\n",
              "      border: none;\n",
              "      border-radius: 50%;\n",
              "      cursor: pointer;\n",
              "      display: none;\n",
              "      fill: #1967D2;\n",
              "      height: 32px;\n",
              "      padding: 0 0 0 0;\n",
              "      width: 32px;\n",
              "    }\n",
              "\n",
              "    .colab-df-convert:hover {\n",
              "      background-color: #E2EBFA;\n",
              "      box-shadow: 0px 1px 2px rgba(60, 64, 67, 0.3), 0px 1px 3px 1px rgba(60, 64, 67, 0.15);\n",
              "      fill: #174EA6;\n",
              "    }\n",
              "\n",
              "    [theme=dark] .colab-df-convert {\n",
              "      background-color: #3B4455;\n",
              "      fill: #D2E3FC;\n",
              "    }\n",
              "\n",
              "    [theme=dark] .colab-df-convert:hover {\n",
              "      background-color: #434B5C;\n",
              "      box-shadow: 0px 1px 3px 1px rgba(0, 0, 0, 0.15);\n",
              "      filter: drop-shadow(0px 1px 2px rgba(0, 0, 0, 0.3));\n",
              "      fill: #FFFFFF;\n",
              "    }\n",
              "  </style>\n",
              "\n",
              "      <script>\n",
              "        const buttonEl =\n",
              "          document.querySelector('#df-b4433061-9caf-449b-bdc1-b293591164e5 button.colab-df-convert');\n",
              "        buttonEl.style.display =\n",
              "          google.colab.kernel.accessAllowed ? 'block' : 'none';\n",
              "\n",
              "        async function convertToInteractive(key) {\n",
              "          const element = document.querySelector('#df-b4433061-9caf-449b-bdc1-b293591164e5');\n",
              "          const dataTable =\n",
              "            await google.colab.kernel.invokeFunction('convertToInteractive',\n",
              "                                                     [key], {});\n",
              "          if (!dataTable) return;\n",
              "\n",
              "          const docLinkHtml = 'Like what you see? Visit the ' +\n",
              "            '<a target=\"_blank\" href=https://colab.research.google.com/notebooks/data_table.ipynb>data table notebook</a>'\n",
              "            + ' to learn more about interactive tables.';\n",
              "          element.innerHTML = '';\n",
              "          dataTable['output_type'] = 'display_data';\n",
              "          await google.colab.output.renderOutput(dataTable, element);\n",
              "          const docLink = document.createElement('div');\n",
              "          docLink.innerHTML = docLinkHtml;\n",
              "          element.appendChild(docLink);\n",
              "        }\n",
              "      </script>\n",
              "    </div>\n",
              "  </div>\n",
              "  "
            ]
          },
          "metadata": {},
          "execution_count": 8
        }
      ]
    },
    {
      "cell_type": "code",
      "execution_count": 9,
      "metadata": {
        "colab": {
          "base_uri": "https://localhost:8080/"
        },
        "id": "Nz0BkgNVnpLH",
        "outputId": "fbc09029-4f65-435b-f23e-db6f232bbfb3"
      },
      "outputs": [
        {
          "output_type": "stream",
          "name": "stdout",
          "text": [
            "On file 0\n",
            "On file 1\n",
            "On file 2\n",
            "On file 3\n",
            "On file 4\n",
            "On file 5\n",
            "On file 6\n",
            "On file 7\n",
            "On file 8\n",
            "On file 9\n"
          ]
        }
      ],
      "source": [
        "## Getting the data\n",
        "dtypes = {k: v for (k, v) in zip(dtypes_df.column, dtypes_df.dtype)}\n",
        "fields = ['event_id', 'event_time','team_scoring_next']\n",
        "df_list = []\n",
        "\n",
        "for i in range(10):\n",
        "  print(f'On file {i}') \n",
        "  filename = f'train_{i}.csv'\n",
        "  _df = (pd.read_csv(filename, index_col=None, header=0, dtype=dtypes, usecols=fields)\n",
        "        .groupby('event_id').first())\n",
        "  df_list.append(_df)\n",
        "\n",
        "df = pd.concat(df_list, axis=0, ignore_index=True)\n"
      ]
    },
    {
      "cell_type": "code",
      "source": [
        "df.info()"
      ],
      "metadata": {
        "colab": {
          "base_uri": "https://localhost:8080/"
        },
        "id": "ylfmOKHmKi-b",
        "outputId": "23bcb106-e86f-49d0-b011-f02c4b229e12"
      },
      "execution_count": 10,
      "outputs": [
        {
          "output_type": "stream",
          "name": "stdout",
          "text": [
            "<class 'pandas.core.frame.DataFrame'>\n",
            "RangeIndex: 30528 entries, 0 to 30527\n",
            "Data columns (total 2 columns):\n",
            " #   Column             Non-Null Count  Dtype  \n",
            "---  ------             --------------  -----  \n",
            " 0   event_time         30528 non-null  float32\n",
            " 1   team_scoring_next  25366 non-null  object \n",
            "dtypes: float32(1), object(1)\n",
            "memory usage: 357.9+ KB\n"
          ]
        }
      ]
    },
    {
      "cell_type": "markdown",
      "source": [
        "# Survival Analysis\n",
        "\n",
        "First, let's just do a quick visual check and calculate some statistics."
      ],
      "metadata": {
        "id": "ePe8tRGJuh2l"
      }
    },
    {
      "cell_type": "code",
      "source": [
        "time_to_score_series = df.dropna(axis='rows')['event_time']\n",
        "\n",
        "n , bins, _ = plt.hist(-time_to_score_series, bins = np.arange(0,300,5))\n",
        "mode_index = n.argmax()  \n",
        "print(f'mean: {-time_to_score_series.mean() :.2f} seconds')\n",
        "print(f'median: {-time_to_score_series.median() :.2f} seconds')\n",
        "print(f'modal 5 seconds: {bins[n.argmax()]}-{bins[n.argmax()+1]}')\n",
        "\n",
        "sns.histplot(-time_to_score_series, bins = np.arange(0,300,5)) # Multiply by -1 to get time until goal\n",
        "plt.xlabel('Time after kickoff until score (seconds)')\n",
        "plt.show()"
      ],
      "metadata": {
        "colab": {
          "base_uri": "https://localhost:8080/",
          "height": 333
        },
        "id": "FREI9-YupYGZ",
        "outputId": "63ecd918-532c-4c61-c9f9-b7ec8bc63085"
      },
      "execution_count": 18,
      "outputs": [
        {
          "output_type": "stream",
          "name": "stdout",
          "text": [
            "mean: 67.49 seconds\n",
            "median: 49.17 seconds\n",
            "modal 5 seconds: 5-10\n"
          ]
        },
        {
          "output_type": "display_data",
          "data": {
            "text/plain": [
              "<Figure size 432x288 with 1 Axes>"
            ],
            "image/png": "[encoded data removed]"
          },
          "metadata": {
            "needs_background": "light"
          }
        }
      ]
    },
    {
      "cell_type": "markdown",
      "source": [
        "Ok, that looks like we might expect it to. Very unlikely for a goal to be scored in the first few seconds (it takes some amount of time to score), then the time to goal looks to roughly follow a poisson process [https://gtribello.github.io/mathNET/resources/jim-chap20.pdf, figure 20.1].\n",
        "\n",
        "Now lets do a formal 'survival analysis'. In our data there a quite a few events where 'team_scoring_next' is NaN. In this case we do not know how long it would have taken for a goal to be scored, as the game ended first.\n",
        "\n",
        "However, we do know at least that it was going to take at least until that game end for a goal to occur. This is an example of right-censoring. Luckly there is a cool library called 'lifelines' that will account for that. It's worth reading around the literature, but for now lets just fit a model. "
      ],
      "metadata": {
        "id": "ClNL5CEOv83j"
      }
    },
    {
      "cell_type": "code",
      "source": [
        "## Set up data to fit\n",
        "\n",
        "survival_df =  pd.DataFrame({'t' : [],\n",
        "                     'goal_status': []})\n",
        "survival_df['t'] = -1 * df[['event_time']].copy()\n",
        "survival_df['goal_status'] = np.where((df['team_scoring_next'] == 'A') | (df['team_scoring_next'] == 'B') ,True,False) # True if a goal is scored, false if censored\n",
        "survival_df"
      ],
      "metadata": {
        "colab": {
          "base_uri": "https://localhost:8080/",
          "height": 424
        },
        "id": "Uswd28YixqAP",
        "outputId": "7cece1c0-75bd-4196-b96b-aa58f80779ce"
      },
      "execution_count": 19,
      "outputs": [
        {
          "output_type": "execute_result",
          "data": {
            "text/plain": [
              "                t  goal_status\n",
              "0       33.313030         True\n",
              "1      135.037476         True\n",
              "2       69.087517         True\n",
              "3        9.546700         True\n",
              "4       46.077991         True\n",
              "...           ...          ...\n",
              "30523   10.691553         True\n",
              "30524   16.589708         True\n",
              "30525  105.996834         True\n",
              "30526   94.513321         True\n",
              "30527   19.667217        False\n",
              "\n",
              "[30528 rows x 2 columns]"
            ],
            "text/html": [
              "\n",
              "  <div id=\"df-0c8dc239-41a3-491d-8d2d-59a68c15acd0\">\n",
              "    <div class=\"colab-df-container\">\n",
              "      <div>\n",
              "<style scoped>\n",
              "    .dataframe tbody tr th:only-of-type {\n",
              "        vertical-align: middle;\n",
              "    }\n",
              "\n",
              "    .dataframe tbody tr th {\n",
              "        vertical-align: top;\n",
              "    }\n",
              "\n",
              "    .dataframe thead th {\n",
              "        text-align: right;\n",
              "    }\n",
              "</style>\n",
              "<table border=\"1\" class=\"dataframe\">\n",
              "  <thead>\n",
              "    <tr style=\"text-align: right;\">\n",
              "      <th></th>\n",
              "      <th>t</th>\n",
              "      <th>goal_status</th>\n",
              "    </tr>\n",
              "  </thead>\n",
              "  <tbody>\n",
              "    <tr>\n",
              "      <th>0</th>\n",
              "      <td>33.313030</td>\n",
              "      <td>True</td>\n",
              "    </tr>\n",
              "    <tr>\n",
              "      <th>1</th>\n",
              "      <td>135.037476</td>\n",
              "      <td>True</td>\n",
              "    </tr>\n",
              "    <tr>\n",
              "      <th>2</th>\n",
              "      <td>69.087517</td>\n",
              "      <td>True</td>\n",
              "    </tr>\n",
              "    <tr>\n",
              "      <th>3</th>\n",
              "      <td>9.546700</td>\n",
              "      <td>True</td>\n",
              "    </tr>\n",
              "    <tr>\n",
              "      <th>4</th>\n",
              "      <td>46.077991</td>\n",
              "      <td>True</td>\n",
              "    </tr>\n",
              "    <tr>\n",
              "      <th>...</th>\n",
              "      <td>...</td>\n",
              "      <td>...</td>\n",
              "    </tr>\n",
              "    <tr>\n",
              "      <th>30523</th>\n",
              "      <td>10.691553</td>\n",
              "      <td>True</td>\n",
              "    </tr>\n",
              "    <tr>\n",
              "      <th>30524</th>\n",
              "      <td>16.589708</td>\n",
              "      <td>True</td>\n",
              "    </tr>\n",
              "    <tr>\n",
              "      <th>30525</th>\n",
              "      <td>105.996834</td>\n",
              "      <td>True</td>\n",
              "    </tr>\n",
              "    <tr>\n",
              "      <th>30526</th>\n",
              "      <td>94.513321</td>\n",
              "      <td>True</td>\n",
              "    </tr>\n",
              "    <tr>\n",
              "      <th>30527</th>\n",
              "      <td>19.667217</td>\n",
              "      <td>False</td>\n",
              "    </tr>\n",
              "  </tbody>\n",
              "</table>\n",
              "<p>30528 rows × 2 columns</p>\n",
              "</div>\n",
              "      <button class=\"colab-df-convert\" onclick=\"convertToInteractive('df-0c8dc239-41a3-491d-8d2d-59a68c15acd0')\"\n",
              "              title=\"Convert this dataframe to an interactive table.\"\n",
              "              style=\"display:none;\">\n",
              "        \n",
              "  <svg xmlns=\"http://www.w3.org/2000/svg\" height=\"24px\"viewBox=\"0 0 24 24\"\n",
              "       width=\"24px\">\n",
              "    <path d=\"M0 0h24v24H0V0z\" fill=\"none\"/>\n",
              "    <path d=\"M18.56 5.44l.94 2.06.94-2.06 2.06-.94-2.06-.94-.94-2.06-.94 2.06-2.06.94zm-11 1L8.5 8.5l.94-2.06 2.06-.94-2.06-.94L8.5 2.5l-.94 2.06-2.06.94zm10 10l.94 2.06.94-2.06 2.06-.94-2.06-.94-.94-2.06-.94 2.06-2.06.94z\"/><path d=\"M17.41 7.96l-1.37-1.37c-.4-.4-.92-.59-1.43-.59-.52 0-1.04.2-1.43.59L10.3 9.45l-7.72 7.72c-.78.78-.78 2.05 0 2.83L4 21.41c.39.39.9.59 1.41.59.51 0 1.02-.2 1.41-.59l7.78-7.78 2.81-2.81c.8-.78.8-2.07 0-2.86zM5.41 20L4 18.59l7.72-7.72 1.47 1.35L5.41 20z\"/>\n",
              "  </svg>\n",
              "      </button>\n",
              "      \n",
              "  <style>\n",
              "    .colab-df-container {\n",
              "      display:flex;\n",
              "      flex-wrap:wrap;\n",
              "      gap: 12px;\n",
              "    }\n",
              "\n",
              "    .colab-df-convert {\n",
              "      background-color: #E8F0FE;\n",
              "      border: none;\n",
              "      border-radius: 50%;\n",
              "      cursor: pointer;\n",
              "      display: none;\n",
              "      fill: #1967D2;\n",
              "      height: 32px;\n",
              "      padding: 0 0 0 0;\n",
              "      width: 32px;\n",
              "    }\n",
              "\n",
              "    .colab-df-convert:hover {\n",
              "      background-color: #E2EBFA;\n",
              "      box-shadow: 0px 1px 2px rgba(60, 64, 67, 0.3), 0px 1px 3px 1px rgba(60, 64, 67, 0.15);\n",
              "      fill: #174EA6;\n",
              "    }\n",
              "\n",
              "    [theme=dark] .colab-df-convert {\n",
              "      background-color: #3B4455;\n",
              "      fill: #D2E3FC;\n",
              "    }\n",
              "\n",
              "    [theme=dark] .colab-df-convert:hover {\n",
              "      background-color: #434B5C;\n",
              "      box-shadow: 0px 1px 3px 1px rgba(0, 0, 0, 0.15);\n",
              "      filter: drop-shadow(0px 1px 2px rgba(0, 0, 0, 0.3));\n",
              "      fill: #FFFFFF;\n",
              "    }\n",
              "  </style>\n",
              "\n",
              "      <script>\n",
              "        const buttonEl =\n",
              "          document.querySelector('#df-0c8dc239-41a3-491d-8d2d-59a68c15acd0 button.colab-df-convert');\n",
              "        buttonEl.style.display =\n",
              "          google.colab.kernel.accessAllowed ? 'block' : 'none';\n",
              "\n",
              "        async function convertToInteractive(key) {\n",
              "          const element = document.querySelector('#df-0c8dc239-41a3-491d-8d2d-59a68c15acd0');\n",
              "          const dataTable =\n",
              "            await google.colab.kernel.invokeFunction('convertToInteractive',\n",
              "                                                     [key], {});\n",
              "          if (!dataTable) return;\n",
              "\n",
              "          const docLinkHtml = 'Like what you see? Visit the ' +\n",
              "            '<a target=\"_blank\" href=https://colab.research.google.com/notebooks/data_table.ipynb>data table notebook</a>'\n",
              "            + ' to learn more about interactive tables.';\n",
              "          element.innerHTML = '';\n",
              "          dataTable['output_type'] = 'display_data';\n",
              "          await google.colab.output.renderOutput(dataTable, element);\n",
              "          const docLink = document.createElement('div');\n",
              "          docLink.innerHTML = docLinkHtml;\n",
              "          element.appendChild(docLink);\n",
              "        }\n",
              "      </script>\n",
              "    </div>\n",
              "  </div>\n",
              "  "
            ]
          },
          "metadata": {},
          "execution_count": 19
        }
      ]
    },
    {
      "cell_type": "code",
      "source": [
        "kmf = KaplanMeierFitter()\n",
        "kmf.fit(durations = survival_df[\"t\"]/60, event_observed =survival_df[\"goal_status\"])\n",
        "\n",
        "median_ = kmf.median_survival_time_\n",
        "median_confidence_interval_ = median_survival_times(kmf.confidence_interval_)\n",
        "print(f' Median time to goal score:{median_} (minutes) or {60*median_: .2f} second')\n",
        "print(median_confidence_interval_)\n",
        "\n",
        "kmf.plot_cumulative_density()\n",
        "plt.xlabel('Time since kickoff (minutes)')\n",
        "plt.ylabel('Cumulative proportion of kickoffs for which a goal was scored')\n",
        "plt.xlim(0,5)\n",
        "plt.ylim(0,1)\n",
        "plt.show()"
      ],
      "metadata": {
        "colab": {
          "base_uri": "https://localhost:8080/",
          "height": 392
        },
        "id": "IeGFyyKywCPW",
        "outputId": "ae651510-94d3-43b5-bec0-a0c0a4fe2838"
      },
      "execution_count": 20,
      "outputs": [
        {
          "output_type": "stream",
          "name": "stdout",
          "text": [
            " Median time to goal score:1.004581093788147 (minutes) or  60.27 second\n",
            "     KM_estimate_lower_0.95  KM_estimate_upper_0.95\n",
            "0.5                0.990017                1.019426\n"
          ]
        },
        {
          "output_type": "display_data",
          "data": {
            "text/plain": [
              "<Figure size 432x288 with 1 Axes>"
            ],
            "image/png": "[encoded data removed]"
          },
          "metadata": {
            "needs_background": "light"
          }
        }
      ]
    },
    {
      "cell_type": "markdown",
      "source": [
        "Wow! That's a really smooth curve! The only bit that doesn't look smooth is in the first 10 seconds.Let's zoom in. "
      ],
      "metadata": {
        "id": "-BWMApnTKwJh"
      }
    },
    {
      "cell_type": "code",
      "source": [
        "kmf.plot_cumulative_density()\n",
        "plt.xlabel('Time since kickoff (minutes)')\n",
        "plt.ylabel('Cumulative proportion of kickoffs for which a goal was scored')\n",
        "plt.xlim(0,1/3)\n",
        "plt.ylim(0,1)\n",
        "plt.show()"
      ],
      "metadata": {
        "colab": {
          "base_uri": "https://localhost:8080/",
          "height": 338
        },
        "id": "yc7LF25H-UGP",
        "outputId": "839dc985-77a1-4807-b58e-e0ccba65a1d3"
      },
      "execution_count": 21,
      "outputs": [
        {
          "output_type": "display_data",
          "data": {
            "text/plain": [
              "<Figure size 432x288 with 1 Axes>"
            ],
            "image/png": "[encoded data removed]"
          },
          "metadata": {
            "needs_background": "light"
          }
        }
      ]
    },
    {
      "cell_type": "markdown",
      "source": [
        "The non-parametric surivival function has been able to highlight that typically it is highly unlikely for a goal to be scored in the first 7 seconds. The fastest goal I could locate with 2 minutes of googling was ~3 seconds, with a direct shot on goal.\n",
        "\n",
        "Let's look at some parameteric functions, using AIC to choose the best. "
      ],
      "metadata": {
        "id": "pRMTfA1kLkrb"
      }
    },
    {
      "cell_type": "code",
      "source": [
        "best_model = None\n",
        "best_aic = np.inf\n",
        "for model in [WeibullFitter, ExponentialFitter,\n",
        "              LogNormalFitter, LogLogisticFitter]:\n",
        "              exf = model()\n",
        "              exf.fit(durations = survival_df[\"t\"]/60, event_observed =survival_df[\"goal_status\"])\n",
        "              if exf.AIC_ < best_aic:\n",
        "                best_aic = exf.AIC_\n",
        "                best_model = exf\n",
        "best_model.print_summary()\n"
      ],
      "metadata": {
        "colab": {
          "base_uri": "https://localhost:8080/",
          "height": 318
        },
        "id": "yS70QaBe4vXm",
        "outputId": "d438f1bb-d0db-43e1-e998-f7bc64364301"
      },
      "execution_count": 22,
      "outputs": [
        {
          "output_type": "display_data",
          "data": {
            "text/plain": [
              "<lifelines.LogNormalFitter:\"LogNormal_estimate\", fitted with 30528 total observations, 5162 right-censored observations>\n",
              "   number of observations = 30528\n",
              "number of events observed = 25366\n",
              "           log-likelihood = -33884.23\n",
              "               hypothesis = mu_ != 0, sigma_ != 1\n",
              "\n",
              "---\n",
              "         coef   se(coef)   coef lower 95%   coef upper 95%\n",
              "mu_     -0.07       0.01            -0.08            -0.06\n",
              "sigma_   1.04       0.00             1.03             1.05\n",
              "\n",
              "         cmp to      z      p   -log2(p)\n",
              "mu_        0.00 -11.22 <0.005      94.63\n",
              "sigma_     1.00   8.83 <0.005      59.78\n",
              "---\n",
              "AIC = 67772.46"
            ],
            "text/html": [
              "<div>\n",
              "<style scoped>\n",
              "    .dataframe tbody tr th:only-of-type {\n",
              "        vertical-align: middle;\n",
              "    }\n",
              "\n",
              "    .dataframe tbody tr th {\n",
              "        vertical-align: top;\n",
              "    }\n",
              "\n",
              "    .dataframe thead th {\n",
              "        text-align: right;\n",
              "    }\n",
              "</style>\n",
              "<table border=\"1\" class=\"dataframe\">\n",
              "  <tbody>\n",
              "    <tr>\n",
              "      <th>model</th>\n",
              "      <td>lifelines.LogNormalFitter</td>\n",
              "    </tr>\n",
              "    <tr>\n",
              "      <th>number of observations</th>\n",
              "      <td>30528</td>\n",
              "    </tr>\n",
              "    <tr>\n",
              "      <th>number of events observed</th>\n",
              "      <td>25366</td>\n",
              "    </tr>\n",
              "    <tr>\n",
              "      <th>log-likelihood</th>\n",
              "      <td>-33884.23</td>\n",
              "    </tr>\n",
              "    <tr>\n",
              "      <th>hypothesis</th>\n",
              "      <td>mu_ != 0, sigma_ != 1</td>\n",
              "    </tr>\n",
              "  </tbody>\n",
              "</table>\n",
              "</div><table border=\"1\" class=\"dataframe\">\n",
              "  <thead>\n",
              "    <tr style=\"text-align: right;\">\n",
              "      <th style=\"min-width: 12px;\"></th>\n",
              "      <th style=\"min-width: 12px;\">coef</th>\n",
              "      <th style=\"min-width: 12px;\">se(coef)</th>\n",
              "      <th style=\"min-width: 12px;\">coef lower 95%</th>\n",
              "      <th style=\"min-width: 12px;\">coef upper 95%</th>\n",
              "      <th style=\"min-width: 12px;\">cmp to</th>\n",
              "      <th style=\"min-width: 12px;\">z</th>\n",
              "      <th style=\"min-width: 12px;\">p</th>\n",
              "      <th style=\"min-width: 12px;\">-log2(p)</th>\n",
              "    </tr>\n",
              "  </thead>\n",
              "  <tbody>\n",
              "    <tr>\n",
              "      <th>mu_</th>\n",
              "      <td>-0.07</td>\n",
              "      <td>0.01</td>\n",
              "      <td>-0.08</td>\n",
              "      <td>-0.06</td>\n",
              "      <td>0.00</td>\n",
              "      <td>-11.22</td>\n",
              "      <td>&lt;0.005</td>\n",
              "      <td>94.63</td>\n",
              "    </tr>\n",
              "    <tr>\n",
              "      <th>sigma_</th>\n",
              "      <td>1.04</td>\n",
              "      <td>0.00</td>\n",
              "      <td>1.03</td>\n",
              "      <td>1.05</td>\n",
              "      <td>1.00</td>\n",
              "      <td>8.83</td>\n",
              "      <td>&lt;0.005</td>\n",
              "      <td>59.78</td>\n",
              "    </tr>\n",
              "  </tbody>\n",
              "</table><br><div>\n",
              "<style scoped>\n",
              "    .dataframe tbody tr th:only-of-type {\n",
              "        vertical-align: middle;\n",
              "    }\n",
              "\n",
              "    .dataframe tbody tr th {\n",
              "        vertical-align: top;\n",
              "    }\n",
              "\n",
              "    .dataframe thead th {\n",
              "        text-align: right;\n",
              "    }\n",
              "</style>\n",
              "<table border=\"1\" class=\"dataframe\">\n",
              "  <tbody>\n",
              "    <tr>\n",
              "      <th>AIC</th>\n",
              "      <td>67772.46</td>\n",
              "    </tr>\n",
              "  </tbody>\n",
              "</table>\n",
              "</div>"
            ],
            "text/latex": "\\begin{tabular}{lrrrrrrrr}\n{} & {coef} & {se(coef)} & {coef lower 95%} & {coef upper 95%} & {cmp to} & {z} & {p} & {-log2(p)} \\\\\nmu_ & -0.07 & 0.01 & -0.08 & -0.06 & 0.00 & -11.22 & 0.00 & 94.63 \\\\\nsigma_ & 1.04 & 0.00 & 1.03 & 1.05 & 1.00 & 8.83 & 0.00 & 59.78 \\\\\n\\end{tabular}\n"
          },
          "metadata": {}
        }
      ]
    },
    {
      "cell_type": "markdown",
      "source": [
        "The LogNormalFitter appears to be best for the full dataset. Let's plot both the cdf of the survival curve and the survival function for this as well."
      ],
      "metadata": {
        "id": "vp7tX7mFMElH"
      }
    },
    {
      "cell_type": "code",
      "source": [
        "print(f'Median time to goal score is{best_model.median_survival_time_: .2f} minutes or{60*best_model.median_survival_time_: .2f} seconds')\n",
        "best_model.plot_survival_function()\n",
        "plt.xlabel('Time since ball drop (minutes)')\n",
        "plt.ylabel('Probability goal not scored')\n",
        "plt.xlim(0,6)\n",
        "plt.ylim(0,1)\n",
        "plt.show()"
      ],
      "metadata": {
        "colab": {
          "base_uri": "https://localhost:8080/",
          "height": 301
        },
        "id": "PwrnbO4J7z5n",
        "outputId": "8600f006-104b-4f3a-f3f8-62b440344095"
      },
      "execution_count": 23,
      "outputs": [
        {
          "output_type": "stream",
          "name": "stdout",
          "text": [
            "Median time to goal score is 0.93 minutes or 55.98 seconds\n"
          ]
        },
        {
          "output_type": "display_data",
          "data": {
            "text/plain": [
              "<Figure size 432x288 with 1 Axes>"
            ],
            "image/png": "[encoded data removed]"
          },
          "metadata": {
            "needs_background": "light"
          }
        }
      ]
    },
    {
      "cell_type": "code",
      "source": [
        "\n",
        "best_model.plot_cumulative_density()\n",
        "plt.xlabel('Time since ball drop (minutes)')\n",
        "plt.ylabel('Probability goal not scored')\n",
        "plt.xlim(0,6)\n",
        "plt.ylim(0,1)\n",
        "plt.show()"
      ],
      "metadata": {
        "colab": {
          "base_uri": "https://localhost:8080/",
          "height": 283
        },
        "id": "mW3cEvYDMdFa",
        "outputId": "3c256f3a-1f5f-4a0f-887f-afdbba9ccf79"
      },
      "execution_count": 24,
      "outputs": [
        {
          "output_type": "display_data",
          "data": {
            "text/plain": [
              "<Figure size 432x288 with 1 Axes>"
            ],
            "image/png": "[encoded data removed]"
          },
          "metadata": {
            "needs_background": "light"
          }
        }
      ]
    },
    {
      "cell_type": "markdown",
      "source": [
        "Overall a very similar curve qualitatively. I'd be more inclined to trust the Kaplar Meier curve though, particuarly given that it highlighted something that seems intuitively reasonable (there is some minimum time needed to score a goal from kickoff)."
      ],
      "metadata": {
        "id": "QsMcyB4iMo0v"
      }
    },
    {
      "cell_type": "markdown",
      "source": [
        "# Bias in scoring from kickoff.\n",
        "\n",
        "From the above analysis it appears that in general we should expect a goal to be scored approximately once a minute on average. Scoring in ten seconds or less would be impressive (although modal). I was interested into whether either team had an advantage with regard to immediate shots on goal.\n",
        "\n",
        "Let's also put a threshold saying that we would want to re-balance the game if either team truly scores more than 55% of goals (either in general or from kickoff).\n",
        "\n",
        "First let's see whether Rocket League is a fair game for both teams in general. "
      ],
      "metadata": {
        "id": "3yu9gosROZFp"
      }
    },
    {
      "cell_type": "code",
      "source": [
        "## Overall bias in goal scoring\n",
        "\n",
        "goals_for_each_team = df['team_scoring_next'].value_counts()\n",
        "\n",
        "A_scores = goals_for_each_team['A']\n",
        "B_scores = goals_for_each_team['B']\n",
        "total = A_scores + B_scores\n",
        "\n",
        "dist = beta(A_scores+1, B_scores+1) # Laplace Smoothing\n",
        "print(A_scores, B_scores)\n",
        "print(f'A scores rather than B {100*A_scores/total :.2f} percentage of the time')\n",
        "print(f'The 89% confidence interval is [{100* dist.ppf(0.055):.2f},{100* dist.ppf(0.945):.2f}]') \n",
        "print(f'We can be {100*dist.cdf(0.55) :.2f} % sure that A does not score more than 55% of goals')\n",
        "print(f'We can be {100 -100*dist.cdf(0.45) :.2f} % sure that B does not score more than 55% of goals')\n",
        "print(f'We can be {100*(dist.cdf(0.55)-dist.cdf(0.45)) :.2f} % sure that we are in the 45-55% zone for goal scores in general')\n"
      ],
      "metadata": {
        "colab": {
          "base_uri": "https://localhost:8080/"
        },
        "id": "KSTpW6UVpbpn",
        "outputId": "996e1c15-cfee-4df4-e9ad-67612b79190e"
      },
      "execution_count": 52,
      "outputs": [
        {
          "output_type": "stream",
          "name": "stdout",
          "text": [
            "12888 12478\n",
            "A scores rather than B 50.81 percentage of the time\n",
            "The 89% confidence interval is [50.31,51.31]\n",
            "We can be 100.00 % sure that A does not score more than 55% of goals\n",
            "We can be 100.00 % sure that B does not score more than 55% of goals\n",
            "We can be 100.00 % sure that we are in the 45-55% zone for goal scores in general\n"
          ]
        }
      ]
    },
    {
      "cell_type": "markdown",
      "source": [
        "\n",
        "\n",
        "This shows that there does seem to be some advantage to team A. I don't have enough domain knowledge to postulate a reason for this. This is only a slight advantage if it does exist, and we can be confident that it was below the defined 55% advantage threshold that we set. This therefore may not warrant action. \n",
        "\n",
        "Why an 89% confidence interval rather than the more traditional 95%? See https://xcelab.net/rm/statistical-rethinking/ for a more indepth discussion, but largely as an attempt to draw attention to how arbirtary 95% is. The interested reader can determine that this finding is still significant at the 95% confidence level (up to a 98.9% confidence interval truly).\n",
        "\n",
        "With that somewhat surprising finding, let's move on to whether team A also have an advantage from the kickoff. I'm going to consider two thresholds to define 'scoring from kickoff'. The first is ten seconds, given that 5-10 seconds was the modal 5 second period for scoring. The second is 7 seconds, which from the Kaplan Meier plot we would expect to require almost perfect circumstance to occur (eg. a direct and unblocked shot on goal). "
      ],
      "metadata": {
        "id": "mG6QvMm3_26Q"
      }
    },
    {
      "cell_type": "code",
      "source": [
        "## Kickoff advantage in goal scoring\n",
        "seconds = 10\n",
        "\n",
        "goals_for_each_team = df[(df['event_time'] >= -seconds)]['team_scoring_next'].value_counts()\n",
        "\n",
        "A_scores = goals_for_each_team['A']\n",
        "B_scores = goals_for_each_team['B']\n",
        "total = A_scores + B_scores\n",
        "\n",
        "dist = beta(A_scores+1, B_scores+1) # Laplace Smoothing\n",
        "print(A_scores, B_scores)\n",
        "print(f'A scores rather than B {100*A_scores/total :.2f} percentage of the time that a goal is scored within {seconds} second after kick-off')\n",
        "print(f'The 89% confidence interval is [{100* dist.ppf(0.055):.2f},{100* dist.ppf(0.945):.2f}]')\n",
        "print(f'We can be {100*dist.cdf(0.55) :.2f} % sure that A does not score more than 55% of goals that occur within {seconds} seconds of kickoff')\n",
        "print(f'We can be {100 -100*dist.cdf(0.45) :.2f} % sure that B does not score more than 55% of goals that occur within {seconds} seconds of kickoff')\n",
        "print(f'We can be {100*(dist.cdf(0.55)-dist.cdf(0.45)) :.2f} % sure that we are in the 45-55% zone for goal scores within {seconds} seconds of kickoff')"
      ],
      "metadata": {
        "colab": {
          "base_uri": "https://localhost:8080/"
        },
        "id": "lPnlrDeipge4",
        "outputId": "2ea7be1e-82c6-4277-e987-b62549bbb8f6"
      },
      "execution_count": 49,
      "outputs": [
        {
          "output_type": "stream",
          "name": "stdout",
          "text": [
            "1038 1025\n",
            "A scores rather than B 50.32 percentage of the time that a goal is scored within 10 second after kick-off\n",
            "The 89% confidence interval is [48.56,52.07]\n",
            "We can be 100.00 % sure that A does not score more than 55% of goals that occur within 10 seconds of kickoff\n",
            "We can be 100.00 % sure that B does not score more than 55% of goals that occur within 10 seconds of kickoff\n",
            "We can be 100.00 % sure that we are in the 45-55% zone for goal scores within 10 seconds of kickoff\n"
          ]
        }
      ]
    },
    {
      "cell_type": "code",
      "source": [
        "seconds = 7\n",
        "\n",
        "goals_for_each_team = df[(df['event_time'] >= -seconds)]['team_scoring_next'].value_counts()\n",
        "\n",
        "A_scores = goals_for_each_team['A']\n",
        "B_scores = goals_for_each_team['B']\n",
        "total = A_scores + B_scores\n",
        "\n",
        "dist = beta(A_scores+1, B_scores+1) # Laplace Smoothing\n",
        "print(A_scores, B_scores)\n",
        "print(f'A scores rather than B {100*A_scores/total :.2f} percentage of the time that a goal is scored within {seconds} second after kick-off')\n",
        "print(f'The 89% confidence interval is [{100* dist.ppf(0.055):.2f},{100* dist.ppf(0.945):.2f}]')\n",
        "print(f'We can be {100*dist.cdf(0.55) :.2f} % sure that A does not score more than 55% of goals that occur within {seconds} seconds of kickoff')\n",
        "print(f'We can be {100 -100*dist.cdf(0.45) :.2f} % sure that B does not score more than 55% of goals that occur within {seconds} seconds of kickoff')\n",
        "print(f'We can be {100*(dist.cdf(0.55)-dist.cdf(0.45)) :.2f} % sure that we are in the 45-55% zone for goal scores within {seconds} seconds of kickoff')"
      ],
      "metadata": {
        "colab": {
          "base_uri": "https://localhost:8080/"
        },
        "id": "CDTpTHbbO1FS",
        "outputId": "fff96bcb-1ab1-4b06-faeb-fd05ec9dce86"
      },
      "execution_count": 51,
      "outputs": [
        {
          "output_type": "stream",
          "name": "stdout",
          "text": [
            "353 315\n",
            "A scores rather than B 52.84 percentage of the time that a goal is scored within 7 second after kick-off\n",
            "The 89% confidence interval is [49.75,55.91]\n",
            "We can be 86.92 % sure that A does not score more than 55% of goals that occur within 7 seconds of kickoff\n",
            "We can be 100.00 % sure that B does not score more than 55% of goals that occur within 7 seconds of kickoff\n",
            "We can be 86.92 % sure that we are in the 45-55% zone for goal scores within 7 seconds of kickoff\n"
          ]
        }
      ]
    },
    {
      "cell_type": "markdown",
      "source": [
        "So (according to this data set) we don't have any statistical evidence to support suggesting that either team has an advantage from kick-off. Why then does team A have a slight advantage in goal scoring? In the absence of detailed knowledge about the data generating process, I'm somewhat inclined to believe that this is a quirk of the dataset.\n",
        "\n",
        "Therefore the overall finding are\n",
        "\n",
        "\n",
        "1.   Depending on the model, the expected time to score is either 55 seconds or ~60 seconds. With this amount of data, I'm more inclined to trust the non-parametric model (so 60 seconds). The most common time to score was between 5 and 10 seconds. A fun demonstration of the difference between median and mode!\n",
        "2.   I didn't find evidence to convince me that either team had an advantage from kickoff. However, at least in this data set, team A scored slightly more often that team B (50.32% of goals). With no asymmetry in the game that I'm aware of, this seems a little strange. Potentially some asymmetry does exist, maybe it is a quirk of how this data was sampled, or potentially it is just down to chance. There is reasonably strong evidence in all cases that the 55% threshold was respected.\n",
        "\n",
        "All in all I certainly don't think that this analysis suggests the developers need to re-balance their game. The only consideration would be in whether the developers are happy with there being an expected ~minute long period between goals. As goals are likely an emotional high point for players, designers may care about this frequency. If having ~five goals per game is in line with the designers' vision, then no changes need to be made. \n",
        "\n",
        "\n",
        "\n"
      ],
      "metadata": {
        "id": "So3KiuZb_Ya-"
      }
    }
  ]
}
